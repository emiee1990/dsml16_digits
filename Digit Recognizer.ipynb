{
 "cells": [
  {
   "cell_type": "code",
   "execution_count": 2,
   "id": "078e6ddc",
   "metadata": {},
   "outputs": [],
   "source": [
    "import pandas as pd\n",
    "import matplotlib.pyplot as plt"
   ]
  },
  {
   "cell_type": "code",
   "execution_count": 3,
   "id": "63c1413e",
   "metadata": {},
   "outputs": [
    {
     "data": {
      "text/plain": [
       "(42000, 785)"
      ]
     },
     "execution_count": 3,
     "metadata": {},
     "output_type": "execute_result"
    }
   ],
   "source": [
    "df = pd.read_csv('../../../../datasets/digit_recognition/train.csv')\n",
    "df_test = pd.read_csv('../../../../datasets/digit_recognition/test.csv')\n",
    "df.shape"
   ]
  },
  {
   "cell_type": "code",
   "execution_count": 4,
   "id": "10222694",
   "metadata": {},
   "outputs": [
    {
     "data": {
      "text/html": [
       "<div>\n",
       "<style scoped>\n",
       "    .dataframe tbody tr th:only-of-type {\n",
       "        vertical-align: middle;\n",
       "    }\n",
       "\n",
       "    .dataframe tbody tr th {\n",
       "        vertical-align: top;\n",
       "    }\n",
       "\n",
       "    .dataframe thead th {\n",
       "        text-align: right;\n",
       "    }\n",
       "</style>\n",
       "<table border=\"1\" class=\"dataframe\">\n",
       "  <thead>\n",
       "    <tr style=\"text-align: right;\">\n",
       "      <th></th>\n",
       "      <th>label</th>\n",
       "      <th>pixel0</th>\n",
       "      <th>pixel1</th>\n",
       "      <th>pixel2</th>\n",
       "      <th>pixel3</th>\n",
       "      <th>pixel4</th>\n",
       "      <th>pixel5</th>\n",
       "      <th>pixel6</th>\n",
       "      <th>pixel7</th>\n",
       "      <th>pixel8</th>\n",
       "      <th>...</th>\n",
       "      <th>pixel774</th>\n",
       "      <th>pixel775</th>\n",
       "      <th>pixel776</th>\n",
       "      <th>pixel777</th>\n",
       "      <th>pixel778</th>\n",
       "      <th>pixel779</th>\n",
       "      <th>pixel780</th>\n",
       "      <th>pixel781</th>\n",
       "      <th>pixel782</th>\n",
       "      <th>pixel783</th>\n",
       "    </tr>\n",
       "  </thead>\n",
       "  <tbody>\n",
       "    <tr>\n",
       "      <th>0</th>\n",
       "      <td>1</td>\n",
       "      <td>0</td>\n",
       "      <td>0</td>\n",
       "      <td>0</td>\n",
       "      <td>0</td>\n",
       "      <td>0</td>\n",
       "      <td>0</td>\n",
       "      <td>0</td>\n",
       "      <td>0</td>\n",
       "      <td>0</td>\n",
       "      <td>...</td>\n",
       "      <td>0</td>\n",
       "      <td>0</td>\n",
       "      <td>0</td>\n",
       "      <td>0</td>\n",
       "      <td>0</td>\n",
       "      <td>0</td>\n",
       "      <td>0</td>\n",
       "      <td>0</td>\n",
       "      <td>0</td>\n",
       "      <td>0</td>\n",
       "    </tr>\n",
       "    <tr>\n",
       "      <th>1</th>\n",
       "      <td>0</td>\n",
       "      <td>0</td>\n",
       "      <td>0</td>\n",
       "      <td>0</td>\n",
       "      <td>0</td>\n",
       "      <td>0</td>\n",
       "      <td>0</td>\n",
       "      <td>0</td>\n",
       "      <td>0</td>\n",
       "      <td>0</td>\n",
       "      <td>...</td>\n",
       "      <td>0</td>\n",
       "      <td>0</td>\n",
       "      <td>0</td>\n",
       "      <td>0</td>\n",
       "      <td>0</td>\n",
       "      <td>0</td>\n",
       "      <td>0</td>\n",
       "      <td>0</td>\n",
       "      <td>0</td>\n",
       "      <td>0</td>\n",
       "    </tr>\n",
       "    <tr>\n",
       "      <th>2</th>\n",
       "      <td>1</td>\n",
       "      <td>0</td>\n",
       "      <td>0</td>\n",
       "      <td>0</td>\n",
       "      <td>0</td>\n",
       "      <td>0</td>\n",
       "      <td>0</td>\n",
       "      <td>0</td>\n",
       "      <td>0</td>\n",
       "      <td>0</td>\n",
       "      <td>...</td>\n",
       "      <td>0</td>\n",
       "      <td>0</td>\n",
       "      <td>0</td>\n",
       "      <td>0</td>\n",
       "      <td>0</td>\n",
       "      <td>0</td>\n",
       "      <td>0</td>\n",
       "      <td>0</td>\n",
       "      <td>0</td>\n",
       "      <td>0</td>\n",
       "    </tr>\n",
       "    <tr>\n",
       "      <th>3</th>\n",
       "      <td>4</td>\n",
       "      <td>0</td>\n",
       "      <td>0</td>\n",
       "      <td>0</td>\n",
       "      <td>0</td>\n",
       "      <td>0</td>\n",
       "      <td>0</td>\n",
       "      <td>0</td>\n",
       "      <td>0</td>\n",
       "      <td>0</td>\n",
       "      <td>...</td>\n",
       "      <td>0</td>\n",
       "      <td>0</td>\n",
       "      <td>0</td>\n",
       "      <td>0</td>\n",
       "      <td>0</td>\n",
       "      <td>0</td>\n",
       "      <td>0</td>\n",
       "      <td>0</td>\n",
       "      <td>0</td>\n",
       "      <td>0</td>\n",
       "    </tr>\n",
       "    <tr>\n",
       "      <th>4</th>\n",
       "      <td>0</td>\n",
       "      <td>0</td>\n",
       "      <td>0</td>\n",
       "      <td>0</td>\n",
       "      <td>0</td>\n",
       "      <td>0</td>\n",
       "      <td>0</td>\n",
       "      <td>0</td>\n",
       "      <td>0</td>\n",
       "      <td>0</td>\n",
       "      <td>...</td>\n",
       "      <td>0</td>\n",
       "      <td>0</td>\n",
       "      <td>0</td>\n",
       "      <td>0</td>\n",
       "      <td>0</td>\n",
       "      <td>0</td>\n",
       "      <td>0</td>\n",
       "      <td>0</td>\n",
       "      <td>0</td>\n",
       "      <td>0</td>\n",
       "    </tr>\n",
       "  </tbody>\n",
       "</table>\n",
       "<p>5 rows × 785 columns</p>\n",
       "</div>"
      ],
      "text/plain": [
       "   label  pixel0  pixel1  pixel2  pixel3  pixel4  pixel5  pixel6  pixel7  \\\n",
       "0      1       0       0       0       0       0       0       0       0   \n",
       "1      0       0       0       0       0       0       0       0       0   \n",
       "2      1       0       0       0       0       0       0       0       0   \n",
       "3      4       0       0       0       0       0       0       0       0   \n",
       "4      0       0       0       0       0       0       0       0       0   \n",
       "\n",
       "   pixel8  ...  pixel774  pixel775  pixel776  pixel777  pixel778  pixel779  \\\n",
       "0       0  ...         0         0         0         0         0         0   \n",
       "1       0  ...         0         0         0         0         0         0   \n",
       "2       0  ...         0         0         0         0         0         0   \n",
       "3       0  ...         0         0         0         0         0         0   \n",
       "4       0  ...         0         0         0         0         0         0   \n",
       "\n",
       "   pixel780  pixel781  pixel782  pixel783  \n",
       "0         0         0         0         0  \n",
       "1         0         0         0         0  \n",
       "2         0         0         0         0  \n",
       "3         0         0         0         0  \n",
       "4         0         0         0         0  \n",
       "\n",
       "[5 rows x 785 columns]"
      ]
     },
     "execution_count": 4,
     "metadata": {},
     "output_type": "execute_result"
    }
   ],
   "source": [
    "df.head(5)"
   ]
  },
  {
   "cell_type": "code",
   "execution_count": 5,
   "id": "584a8723",
   "metadata": {},
   "outputs": [],
   "source": [
    "X = df.drop('label', axis=1)/255\n",
    "y = df['label']"
   ]
  },
  {
   "cell_type": "code",
   "execution_count": 6,
   "id": "765e533e",
   "metadata": {},
   "outputs": [
    {
     "data": {
      "text/plain": [
       "(42000, 784)"
      ]
     },
     "execution_count": 6,
     "metadata": {},
     "output_type": "execute_result"
    }
   ],
   "source": [
    "X.shape"
   ]
  },
  {
   "cell_type": "code",
   "execution_count": 7,
   "id": "0875fddd",
   "metadata": {},
   "outputs": [],
   "source": [
    "def show_digit(X,index):\n",
    "    img0 = X.iloc[index].values.reshape(28,28)/255\n",
    "    plt.imshow(img0)"
   ]
  },
  {
   "cell_type": "code",
   "execution_count": 8,
   "id": "f99e307e",
   "metadata": {},
   "outputs": [
    {
     "data": {
      "image/png": "[encoded data removed]",
      "text/plain": [
       "<Figure size 432x288 with 1 Axes>"
      ]
     },
     "metadata": {
      "needs_background": "light"
     },
     "output_type": "display_data"
    }
   ],
   "source": [
    "show_digit(X, 512)"
   ]
  },
  {
   "cell_type": "code",
   "execution_count": 9,
   "id": "ec8a2565",
   "metadata": {},
   "outputs": [
    {
     "data": {
      "text/plain": [
       "(28000, 784)"
      ]
     },
     "execution_count": 9,
     "metadata": {},
     "output_type": "execute_result"
    }
   ],
   "source": [
    "df_test.shape"
   ]
  },
  {
   "cell_type": "code",
   "execution_count": 10,
   "id": "fd9fe470",
   "metadata": {},
   "outputs": [
    {
     "data": {
      "image/png": "[encoded data removed]",
      "text/plain": [
       "<Figure size 432x288 with 1 Axes>"
      ]
     },
     "metadata": {
      "needs_background": "light"
     },
     "output_type": "display_data"
    }
   ],
   "source": [
    "show_digit(df_test, 1)"
   ]
  },
  {
   "cell_type": "code",
   "execution_count": 11,
   "id": "d5bd5d62",
   "metadata": {},
   "outputs": [
    {
     "data": {
      "text/plain": [
       "0        1\n",
       "1        0\n",
       "2        1\n",
       "3        4\n",
       "4        0\n",
       "        ..\n",
       "41995    0\n",
       "41996    1\n",
       "41997    7\n",
       "41998    6\n",
       "41999    9\n",
       "Name: label, Length: 42000, dtype: int64"
      ]
     },
     "execution_count": 11,
     "metadata": {},
     "output_type": "execute_result"
    }
   ],
   "source": [
    "y"
   ]
  },
  {
   "cell_type": "code",
   "execution_count": 12,
   "id": "b83ce68a",
   "metadata": {},
   "outputs": [],
   "source": [
    "from tensorflow.keras.utils import to_categorical"
   ]
  },
  {
   "cell_type": "code",
   "execution_count": 13,
   "id": "ecd38033",
   "metadata": {},
   "outputs": [],
   "source": [
    "y_train = to_categorical(y, num_classes=10)"
   ]
  },
  {
   "cell_type": "code",
   "execution_count": 14,
   "id": "f52c7697",
   "metadata": {},
   "outputs": [
    {
     "data": {
      "text/plain": [
       "(42000, 10)"
      ]
     },
     "execution_count": 14,
     "metadata": {},
     "output_type": "execute_result"
    }
   ],
   "source": [
    "y_train.shape"
   ]
  },
  {
   "cell_type": "markdown",
   "id": "7b3db15c",
   "metadata": {},
   "source": [
    "# Model Bulding"
   ]
  },
  {
   "cell_type": "code",
   "execution_count": 15,
   "id": "84984506",
   "metadata": {},
   "outputs": [],
   "source": [
    "from tensorflow.keras.models import Sequential\n",
    "from tensorflow.keras.layers import Dense"
   ]
  },
  {
   "cell_type": "code",
   "execution_count": 16,
   "id": "1631b0f5",
   "metadata": {},
   "outputs": [],
   "source": [
    "model = Sequential()\n",
    "model.add(Dense(50, activation='relu',input_shape=(784,)))\n",
    "model.add(Dense(50, activation='relu'))\n",
    "model.add(Dense(10, activation='softmax')) # Probability\n",
    "\n",
    "model.compile(loss='categorical_crossentropy', metrics=['accuracy'])"
   ]
  },
  {
   "cell_type": "code",
   "execution_count": 17,
   "id": "24123c7b",
   "metadata": {},
   "outputs": [
    {
     "name": "stdout",
     "output_type": "stream",
     "text": [
      "Model: \"sequential\"\n",
      "_________________________________________________________________\n",
      " Layer (type)                Output Shape              Param #   \n",
      "=================================================================\n",
      " dense (Dense)               (None, 50)                39250     \n",
      "                                                                 \n",
      " dense_1 (Dense)             (None, 50)                2550      \n",
      "                                                                 \n",
      " dense_2 (Dense)             (None, 10)                510       \n",
      "                                                                 \n",
      "=================================================================\n",
      "Total params: 42,310\n",
      "Trainable params: 42,310\n",
      "Non-trainable params: 0\n",
      "_________________________________________________________________\n"
     ]
    }
   ],
   "source": [
    "model.summary()"
   ]
  },
  {
   "cell_type": "code",
   "execution_count": 18,
   "id": "e123df2b",
   "metadata": {},
   "outputs": [
    {
     "name": "stdout",
     "output_type": "stream",
     "text": [
      "Epoch 1/20\n",
      "657/657 [==============================] - 2s 2ms/step - loss: 0.3839 - accuracy: 0.8920\n",
      "Epoch 2/20\n",
      "657/657 [==============================] - 1s 2ms/step - loss: 0.1785 - accuracy: 0.9473\n",
      "Epoch 3/20\n",
      "657/657 [==============================] - 1s 2ms/step - loss: 0.1358 - accuracy: 0.9594\n",
      "Epoch 4/20\n",
      "657/657 [==============================] - 1s 2ms/step - loss: 0.1117 - accuracy: 0.9666\n",
      "Epoch 5/20\n",
      "657/657 [==============================] - 1s 2ms/step - loss: 0.0942 - accuracy: 0.9716\n",
      "Epoch 6/20\n",
      "657/657 [==============================] - 1s 2ms/step - loss: 0.0810 - accuracy: 0.9755\n",
      "Epoch 7/20\n",
      "657/657 [==============================] - 1s 2ms/step - loss: 0.0703 - accuracy: 0.9783\n",
      "Epoch 8/20\n",
      "657/657 [==============================] - 1s 2ms/step - loss: 0.0626 - accuracy: 0.9812\n",
      "Epoch 9/20\n",
      "657/657 [==============================] - 1s 2ms/step - loss: 0.0559 - accuracy: 0.9826\n",
      "Epoch 10/20\n",
      "657/657 [==============================] - 1s 2ms/step - loss: 0.0504 - accuracy: 0.9844\n",
      "Epoch 11/20\n",
      "657/657 [==============================] - 1s 2ms/step - loss: 0.0457 - accuracy: 0.9859\n",
      "Epoch 12/20\n",
      "657/657 [==============================] - 1s 2ms/step - loss: 0.0408 - accuracy: 0.9872\n",
      "Epoch 13/20\n",
      "657/657 [==============================] - 1s 2ms/step - loss: 0.0362 - accuracy: 0.9891\n",
      "Epoch 14/20\n",
      "657/657 [==============================] - 1s 2ms/step - loss: 0.0336 - accuracy: 0.9896\n",
      "Epoch 15/20\n",
      "657/657 [==============================] - 1s 2ms/step - loss: 0.0311 - accuracy: 0.9907\n",
      "Epoch 16/20\n",
      "657/657 [==============================] - 1s 2ms/step - loss: 0.0281 - accuracy: 0.9911\n",
      "Epoch 17/20\n",
      "657/657 [==============================] - 1s 2ms/step - loss: 0.0247 - accuracy: 0.9925\n",
      "Epoch 18/20\n",
      "657/657 [==============================] - 1s 2ms/step - loss: 0.0224 - accuracy: 0.9932\n",
      "Epoch 19/20\n",
      "657/657 [==============================] - 1s 2ms/step - loss: 0.0204 - accuracy: 0.9935\n",
      "Epoch 20/20\n",
      "657/657 [==============================] - 1s 2ms/step - loss: 0.0192 - accuracy: 0.9940\n"
     ]
    },
    {
     "data": {
      "text/plain": [
       "<keras.callbacks.History at 0x215aedef430>"
      ]
     },
     "execution_count": 18,
     "metadata": {},
     "output_type": "execute_result"
    }
   ],
   "source": [
    "model.fit(X, y_train, epochs=20, batch_size=64)"
   ]
  },
  {
   "cell_type": "code",
   "execution_count": 19,
   "id": "165eabea",
   "metadata": {},
   "outputs": [
    {
     "name": "stdout",
     "output_type": "stream",
     "text": [
      "657/657 [==============================] - 1s 1ms/step - loss: 0.0156 - accuracy: 0.9952\n"
     ]
    },
    {
     "data": {
      "text/plain": [
       "[0.01558175403624773, 0.9952142834663391]"
      ]
     },
     "execution_count": 19,
     "metadata": {},
     "output_type": "execute_result"
    }
   ],
   "source": [
    "model.evaluate(X,y_train, batch_size=64)"
   ]
  },
  {
   "cell_type": "code",
   "execution_count": 45,
   "id": "9df92240",
   "metadata": {},
   "outputs": [
    {
     "data": {
      "text/plain": [
       "0"
      ]
     },
     "execution_count": 45,
     "metadata": {},
     "output_type": "execute_result"
    }
   ],
   "source": [
    "q = df_test.iloc[1].values.reshape(1,784)/255\n",
    "model.predict_on_batch(q).argmax()"
   ]
  },
  {
   "cell_type": "code",
   "execution_count": 20,
   "id": "9e97209e",
   "metadata": {},
   "outputs": [],
   "source": [
    "def predict_from_dftest(index):\n",
    "    q = df_test.iloc[index].values.reshape(1,784)/255\n",
    "    print(model.predict(q).argmax())"
   ]
  },
  {
   "cell_type": "code",
   "execution_count": 21,
   "id": "a300b581",
   "metadata": {},
   "outputs": [
    {
     "data": {
      "image/png": "[encoded data removed]",
      "text/plain": [
       "<Figure size 432x288 with 1 Axes>"
      ]
     },
     "metadata": {
      "needs_background": "light"
     },
     "output_type": "display_data"
    }
   ],
   "source": [
    "show_digit(df_test,104)"
   ]
  },
  {
   "cell_type": "code",
   "execution_count": 22,
   "id": "2660002e",
   "metadata": {},
   "outputs": [
    {
     "name": "stdout",
     "output_type": "stream",
     "text": [
      "1/1 [==============================] - 0s 75ms/step\n",
      "7\n"
     ]
    }
   ],
   "source": [
    "predict_from_dftest(104)"
   ]
  },
  {
   "cell_type": "code",
   "execution_count": 59,
   "id": "865a0fd7",
   "metadata": {},
   "outputs": [
    {
     "name": "stdout",
     "output_type": "stream",
     "text": [
      "1313/1313 [==============================] - 1s 957us/step\n"
     ]
    }
   ],
   "source": [
    "yp = model.predict(X)"
   ]
  },
  {
   "cell_type": "code",
   "execution_count": 65,
   "id": "505ed044",
   "metadata": {},
   "outputs": [
    {
     "data": {
      "text/plain": [
       "0.952047619047619"
      ]
     },
     "execution_count": 65,
     "metadata": {},
     "output_type": "execute_result"
    }
   ],
   "source": [
    "sum(yp.argmax(axis=1) == y)/42000"
   ]
  },
  {
   "cell_type": "code",
   "execution_count": 21,
   "id": "646c22ca",
   "metadata": {},
   "outputs": [],
   "source": [
    "import cv2"
   ]
  },
  {
   "cell_type": "code",
   "execution_count": 27,
   "id": "6872e04c",
   "metadata": {},
   "outputs": [],
   "source": [
    "img = cv2.imread('../../datasets/digit_recognition/my_images/00.jpg', 0)"
   ]
  },
  {
   "cell_type": "code",
   "execution_count": 28,
   "id": "eb118f03",
   "metadata": {},
   "outputs": [
    {
     "data": {
      "text/plain": [
       "(33, 38)"
      ]
     },
     "execution_count": 28,
     "metadata": {},
     "output_type": "execute_result"
    }
   ],
   "source": [
    "img.shape"
   ]
  },
  {
   "cell_type": "code",
   "execution_count": 29,
   "id": "b6919f82",
   "metadata": {},
   "outputs": [
    {
     "data": {
      "text/plain": [
       "numpy.ndarray"
      ]
     },
     "execution_count": 29,
     "metadata": {},
     "output_type": "execute_result"
    }
   ],
   "source": [
    "type(img)"
   ]
  },
  {
   "cell_type": "code",
   "execution_count": 30,
   "id": "bfb86df3",
   "metadata": {},
   "outputs": [
    {
     "data": {
      "text/plain": [
       "(28, 28)"
      ]
     },
     "execution_count": 30,
     "metadata": {},
     "output_type": "execute_result"
    }
   ],
   "source": [
    "img = cv2.resize(img, (28,28))/255\n",
    "img.shape"
   ]
  },
  {
   "cell_type": "code",
   "execution_count": 31,
   "id": "433c9553",
   "metadata": {},
   "outputs": [
    {
     "name": "stdout",
     "output_type": "stream",
     "text": [
      "1/1 [==============================] - 0s 18ms/step\n"
     ]
    },
    {
     "data": {
      "text/plain": [
       "6"
      ]
     },
     "execution_count": 31,
     "metadata": {},
     "output_type": "execute_result"
    }
   ],
   "source": [
    "model.predict(img.reshape(1,784)).argmax()"
   ]
  },
  {
   "cell_type": "code",
   "execution_count": 22,
   "id": "cfe17b29",
   "metadata": {},
   "outputs": [],
   "source": [
    "def predict_image(path):\n",
    "    img = cv2.imread(path, 0)\n",
    "    img = cv2.resize(img, (28,28))/255\n",
    "    y = model.predict_on_batch(img.reshape(1,784)).argmax()\n",
    "    return y"
   ]
  },
  {
   "cell_type": "code",
   "execution_count": 36,
   "id": "2a4e7d4f",
   "metadata": {},
   "outputs": [
    {
     "name": "stdout",
     "output_type": "stream",
     "text": [
      "1/1 [==============================] - 0s 16ms/step\n"
     ]
    },
    {
     "data": {
      "text/plain": [
       "2"
      ]
     },
     "execution_count": 36,
     "metadata": {},
     "output_type": "execute_result"
    }
   ],
   "source": [
    "predict_image('../../datasets/digit_recognition/my_images/2.jpg')"
   ]
  },
  {
   "cell_type": "code",
   "execution_count": 23,
   "id": "1c03dc12",
   "metadata": {},
   "outputs": [],
   "source": [
    "import os"
   ]
  },
  {
   "cell_type": "code",
   "execution_count": 26,
   "id": "7586170b",
   "metadata": {},
   "outputs": [],
   "source": [
    "files = os.listdir('../../../../datasets/digit_recognition/my_images')"
   ]
  },
  {
   "cell_type": "code",
   "execution_count": 27,
   "id": "5d9bef82",
   "metadata": {},
   "outputs": [
    {
     "name": "stdout",
     "output_type": "stream",
     "text": [
      "0.jpg \t\t 9\n",
      "00.jpg \t\t 0\n",
      "1.jpg \t\t 2\n",
      "11.jpg \t\t 6\n",
      "2.jpg \t\t 2\n",
      "22.jpg \t\t 2\n",
      "3.jpg \t\t 2\n",
      "33.jpg \t\t 3\n",
      "4.jpg \t\t 4\n",
      "44.jpg \t\t 1\n",
      "5.jpg \t\t 5\n",
      "55.jpg \t\t 5\n",
      "6.jpg \t\t 8\n",
      "66.jpg \t\t 6\n",
      "7.jpg \t\t 2\n",
      "77.jpg \t\t 2\n",
      "8.jpg \t\t 8\n",
      "88.jpg \t\t 5\n",
      "9.jpg \t\t 3\n",
      "99.jpg \t\t 1\n"
     ]
    }
   ],
   "source": [
    "for file in files:\n",
    "    y = predict_image('../../../../datasets/digit_recognition/my_images/'+file)\n",
    "    print(file,'\\t\\t' ,y)"
   ]
  },
  {
   "cell_type": "code",
   "execution_count": null,
   "id": "baed585c",
   "metadata": {},
   "outputs": [],
   "source": [
    "model.predict_function()"
   ]
  }
 ],
 "metadata": {
  "kernelspec": {
   "display_name": "Python 3 (ipykernel)",
   "language": "python",
   "name": "python3"
  },
  "language_info": {
   "codemirror_mode": {
    "name": "ipython",
    "version": 3
   },
   "file_extension": ".py",
   "mimetype": "text/x-python",
   "name": "python",
   "nbconvert_exporter": "python",
   "pygments_lexer": "ipython3",
   "version": "3.9.12"
  }
 },
 "nbformat": 4,
 "nbformat_minor": 5
}
